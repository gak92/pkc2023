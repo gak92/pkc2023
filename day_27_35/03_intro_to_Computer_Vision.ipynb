{
  "nbformat": 4,
  "nbformat_minor": 0,
  "metadata": {
    "colab": {
      "provenance": []
    },
    "kernelspec": {
      "name": "python3",
      "display_name": "Python 3"
    },
    "language_info": {
      "name": "python"
    }
  },
  "cells": [
    {
      "cell_type": "code",
      "execution_count": null,
      "metadata": {
        "id": "2eobYCJ-Vlw3"
      },
      "outputs": [],
      "source": []
    },
    {
      "cell_type": "markdown",
      "source": [
        "# Introduction to Computer Vision\n",
        "\n",
        "- 24 inches ------------> Pixel per inch\n",
        "- FHD 1920 x 1080 = 92\n",
        "- 4K  3840 x 2160 = 180\n",
        "\n",
        "## Bits or Bit Depth\n",
        "\n",
        "||8bit|10bit|12bit|\n",
        "|----|-----|-----|----|\n",
        "|R x G x B|256 x 256 x 256|1024 x 1024 x 1024|4069 x 4096 x 4096|\n",
        "|possible colors|16,777,216|1,073,741,824|over 68 billion|\n",
        "\n",
        "\n",
        "## Black and White Image (Bitonal)\n",
        "- Black = 0\n",
        "- White = 1\n",
        "\n",
        "## Gray Scale Image\n",
        "- Black = 0\n",
        "- Gray = 1 - 254\n",
        "- White = 255\n",
        "\n",
        "## RGB Image\n",
        "- Red = 8 bit\n",
        "- Green = 8 bit\n",
        "- Blue = 8 bit\n",
        "\n",
        "## No. of tones\n",
        "- 1 bit = 2 tones\n",
        "- 2 bits = 4 tones\n",
        "- 3 bits = 8 tones\n",
        "- 4 bits = 16 tones\n",
        "- 8 bits = 256 tones\n",
        "- 16 bits = 65536 tones\n",
        "- 24 bits = 16.7 million tones\n",
        "\n",
        "\n",
        "## Vidoe (Sequence of images)\n",
        "- FPS (frames per second)\n",
        "- Detecting images is similar to detecting videos\n",
        "\n",
        "## Library\n",
        "- pip install opencv-python"
      ],
      "metadata": {
        "id": "Rthj5ZHoVtZU"
      }
    }
  ]
}