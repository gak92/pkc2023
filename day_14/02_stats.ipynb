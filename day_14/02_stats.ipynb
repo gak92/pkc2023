{
 "cells": [
  {
   "cell_type": "markdown",
   "metadata": {},
   "source": [
    "# Statistics"
   ]
  },
  {
   "cell_type": "markdown",
   "metadata": {},
   "source": [
    "## Phase 1 - Design & Planning\n",
    "> 1. Purpose:   \n",
    ">    insights, explore ---> Descriptive\\\n",
    ">                results  ----> Inferential\n",
    "                "
   ]
  },
  {
   "cell_type": "markdown",
   "metadata": {},
   "source": [
    "> 2. Population vs Sample\\\n",
    "> `population` (census) : the total number of individuals in a species, country or area\\\n",
    "> `sample` (survey) : a group of people selected from this population for research purposes"
   ]
  },
  {
   "cell_type": "markdown",
   "metadata": {},
   "source": [
    "|Observational Study |Experimental Study|\n",
    "|-----|--------|\n",
    "|Observe|Compare, Inference, Conclusion, Recommendation       |\n",
    "|Data->Observe, EDA  |Research      |\n",
    "|less cost|very costly|"
   ]
  },
  {
   "cell_type": "markdown",
   "metadata": {},
   "source": [
    "`Primary vs Secondary dataset`\n",
    "\n",
    "Primary data are the original data derived from your research endeavours. Secondary data are data derived from your primary data."
   ]
  },
  {
   "cell_type": "markdown",
   "metadata": {},
   "source": [
    "|primary|Secondary|\n",
    "|--------|---------|\n",
    "|User Generated|Someone else data|\n",
    "|Costly|Cheap|\n",
    "|Time Consuming|Data Readymade|\n",
    "|||\n",
    "\n",
    "- statistics.pk"
   ]
  },
  {
   "cell_type": "markdown",
   "metadata": {},
   "source": [
    "## Sampling Techniques\n",
    "\n",
    "|Probability|Non-Probability|\n",
    "|-----------|---------------|\n",
    "|Simple Random|Quota Sampling|\n",
    "|Stratified Random|Snowball Sampling|\n",
    "|Clustering Sampling|Judgmental Sampling|\n",
    "|Systematic Sampling|Convenience Sampling|\n",
    "|Multi stage Sampling||"
   ]
  },
  {
   "cell_type": "markdown",
   "metadata": {},
   "source": [
    "## 3 imp points about data:\n",
    "\n",
    "- Scale of measurement\n",
    "- Data Types / Variable types\n",
    "- Types of Studies"
   ]
  },
  {
   "cell_type": "markdown",
   "metadata": {},
   "source": [
    "## Scale of measurement\n",
    "1. `Nominal` (Named Variable)\n",
    "  - nominal data  is categorical, meaning it has no ordered relationship to the other categories. There are only distinct values\n",
    "  - A nominal variable is a categorical or discrete variable that has no ordered relationship to the other \n",
    "  - A nominal variable is a category or label that does not have any numerical relationship to another nom\n",
    "  - for example: Gender, zip code, eye color, political affiliation, religious affiliation, nationality, Major field\n",
    "\n",
    "2. `Ordinal` (Ranking)\n",
    "  - Categorical data where the categories have a specific order, but no numerical relationship.\n",
    "  - for example: Grades (A, B, C, D), Judgement (1st, 2nd, 3rd), Rating (Poor, middle, rich), cricket ranking (1,2,3)\n",
    "\n",
    "3. `Interval`\n",
    "  - for example: Math score, IQ, Temperature  \n",
    "\n",
    "4. `Ratio`\n",
    "   - for example, height, weight, time, salary\n",
    "\n",
    "`NOTE`:\n",
    "- Socialogy ---> mostly work on categorical data (nominal, categorical)"
   ]
  },
  {
   "cell_type": "markdown",
   "metadata": {},
   "source": [
    "## Types of Variable\n",
    "\n",
    "- 2 Types of Variable:\n",
    "1. Categorical\n",
    "     1. Nominal\n",
    "     2. Ordinal\n",
    "\n",
    "2. Numerical\n",
    "   1. Continous (whole number, e.g: 7, 11)\n",
    "   2. Discrete (floating point number, e.g: 5.11)"
   ]
  },
  {
   "cell_type": "markdown",
   "metadata": {},
   "source": [
    "## Classify types of Variable\n",
    "\n",
    "1. Dependent Vs Independent\n",
    "e.g: relationship between food and weight. Weight increase due to food.\n",
    "So, food is independent & weight is dependent\n",
    "\n",
    "2. Time Series Vs Cross Section Data\n"
   ]
  },
  {
   "cell_type": "markdown",
   "metadata": {},
   "source": [
    "## Study Types:\n",
    "\n",
    "1. Observational\n",
    "2. Experimental (Draw conclusion, Inference)\n"
   ]
  }
 ],
 "metadata": {
  "language_info": {
   "name": "python"
  }
 },
 "nbformat": 4,
 "nbformat_minor": 2
}
