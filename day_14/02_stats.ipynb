{
 "cells": [
  {
   "cell_type": "markdown",
   "metadata": {},
   "source": [
    "# Statistics"
   ]
  },
  {
   "cell_type": "markdown",
   "metadata": {},
   "source": [
    "## Phase 1 - Design & Planning\n",
    "> 1. Purpose:   \n",
    ">    insights, explore ---> Descriptive\\\n",
    ">                results  ----> Inferential\n",
    "                "
   ]
  },
  {
   "cell_type": "markdown",
   "metadata": {},
   "source": [
    "> 2. Population vs Sample\\\n",
    "> `population` (census) : the total number of individuals in a species, country or area\\\n",
    "> `sample` (survey) : a group of people selected from this population for research purposes"
   ]
  },
  {
   "cell_type": "markdown",
   "metadata": {},
   "source": [
    "|Observational Study |Experimental Study|\n",
    "|-----|--------|\n",
    "|Observe|Compare, Inference, Conclusion, Recommendation       |\n",
    "|Data->Observe, EDA  |Research      |\n",
    "|less cost|very costly|"
   ]
  },
  {
   "cell_type": "markdown",
   "metadata": {},
   "source": [
    "`Primary vs Secondary dataset`\n",
    "\n",
    "Primary data are the original data derived from your research endeavours. Secondary data are data derived from your primary data."
   ]
  },
  {
   "cell_type": "markdown",
   "metadata": {},
   "source": [
    "|primary|Secondary|\n",
    "|--------|---------|\n",
    "|User Generated|Someone else data|\n",
    "|Costly|Cheap|\n",
    "|Time Consuming|Data Readymade|\n",
    "|||\n",
    "\n",
    "- statistics.pk"
   ]
  },
  {
   "cell_type": "markdown",
   "metadata": {},
   "source": [
    "## Sampling Techniques\n",
    "\n",
    "|Probability|Non-Probability|\n",
    "|-----------|---------------|\n",
    "|Simple Random|Quota Sampling|\n",
    "|Stratified Random|Snowball Sampling|\n",
    "|Clustering Sampling|Judgmental Sampling|\n",
    "|Systematic Sampling|Convenience Sampling|\n",
    "|Multi stage Sampling||"
   ]
  },
  {
   "cell_type": "markdown",
   "metadata": {},
   "source": []
  },
  {
   "cell_type": "markdown",
   "metadata": {},
   "source": []
  }
 ],
 "metadata": {
  "language_info": {
   "name": "python"
  }
 },
 "nbformat": 4,
 "nbformat_minor": 2
}
