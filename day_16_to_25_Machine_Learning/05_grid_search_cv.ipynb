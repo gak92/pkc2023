{
 "cells": [
  {
   "cell_type": "markdown",
   "metadata": {},
   "source": [
    "# Grid Search CV"
   ]
  },
  {
   "cell_type": "markdown",
   "metadata": {},
   "source": [
    "## Checking params for different models"
   ]
  },
  {
   "cell_type": "code",
   "execution_count": 3,
   "metadata": {},
   "outputs": [
    {
     "name": "stdout",
     "output_type": "stream",
     "text": [
      "{'copy_X': True, 'fit_intercept': True, 'n_jobs': None, 'positive': False}\n"
     ]
    }
   ],
   "source": [
    "from sklearn.linear_model import LinearRegression\n",
    "\n",
    "model = LinearRegression()\n",
    "\n",
    "# get model params\n",
    "print(model.get_params())"
   ]
  },
  {
   "cell_type": "code",
   "execution_count": 4,
   "metadata": {},
   "outputs": [
    {
     "name": "stdout",
     "output_type": "stream",
     "text": [
      "{'bootstrap': True, 'ccp_alpha': 0.0, 'class_weight': None, 'criterion': 'gini', 'max_depth': None, 'max_features': 'sqrt', 'max_leaf_nodes': None, 'max_samples': None, 'min_impurity_decrease': 0.0, 'min_samples_leaf': 1, 'min_samples_split': 2, 'min_weight_fraction_leaf': 0.0, 'monotonic_cst': None, 'n_estimators': 100, 'n_jobs': None, 'oob_score': False, 'random_state': None, 'verbose': 0, 'warm_start': False}\n"
     ]
    }
   ],
   "source": [
    "from sklearn.ensemble import RandomForestClassifier\n",
    "\n",
    "model = RandomForestClassifier()\n",
    "\n",
    "print(model.get_params())"
   ]
  },
  {
   "cell_type": "code",
   "execution_count": 6,
   "metadata": {},
   "outputs": [
    {
     "name": "stdout",
     "output_type": "stream",
     "text": [
      "{'algorithm': 'auto', 'leaf_size': 30, 'metric': 'minkowski', 'metric_params': None, 'n_jobs': None, 'n_neighbors': 5, 'p': 2, 'weights': 'uniform'}\n"
     ]
    }
   ],
   "source": [
    "from sklearn.neighbors import KNeighborsClassifier\n",
    "model = KNeighborsClassifier()\n",
    "print(model.get_params())"
   ]
  },
  {
   "cell_type": "markdown",
   "metadata": {},
   "source": [
    "## Using GridSearchCV  to optimize hyperparameters with LinearRegression"
   ]
  },
  {
   "cell_type": "code",
   "execution_count": 10,
   "metadata": {},
   "outputs": [],
   "source": [
    "import numpy as np\n",
    "import pandas as pd\n",
    "import matplotlib.pyplot as plt\n",
    "import seaborn as sns\n",
    "\n",
    "from sklearn.linear_model import LinearRegression\n",
    "from sklearn.model_selection import GridSearchCV, train_test_split"
   ]
  },
  {
   "cell_type": "code",
   "execution_count": 12,
   "metadata": {},
   "outputs": [],
   "source": [
    "# load dataset\n",
    "df = sns.load_dataset('titanic')\n",
    "\n",
    "# fill missing values\n",
    "df['age'] = df['age'].fillna(df['age'].mean())\n",
    "\n",
    "X = df[['age']]\n",
    "y = df['fare']\n",
    "\n",
    "# split data\n",
    "X_train, X_test, y_train, y_test = train_test_split(X, y, test_size=0.2, random_state=0)"
   ]
  },
  {
   "cell_type": "code",
   "execution_count": 14,
   "metadata": {},
   "outputs": [
    {
     "name": "stdout",
     "output_type": "stream",
     "text": [
      "Best Params: \n",
      " {'fit_intercept': True}\n"
     ]
    }
   ],
   "source": [
    "# define parameter grid\n",
    "param_grid = {'fit_intercept': [True, False]}\n",
    "\n",
    "# create a model\n",
    "model = LinearRegression()\n",
    "\n",
    "# create a GridSearchCV object with\n",
    "# the model, parameter grid, and scoring metric\n",
    "grid_search = GridSearchCV(model, param_grid, cv=5, scoring='r2')\n",
    "\n",
    "# fit the data to the grid search object \n",
    "grid_search.fit(X_train, y_train)\n",
    "\n",
    "# print the best params\n",
    "print(\"Best Params: \\n\", grid_search.best_params_)"
   ]
  },
  {
   "cell_type": "markdown",
   "metadata": {},
   "source": [
    "## Use GridSearchCV with KNN"
   ]
  },
  {
   "cell_type": "code",
   "execution_count": 15,
   "metadata": {},
   "outputs": [],
   "source": [
    "from sklearn.neighbors import KNeighborsClassifier"
   ]
  },
  {
   "cell_type": "code",
   "execution_count": 16,
   "metadata": {},
   "outputs": [],
   "source": [
    "df = sns.load_dataset('titanic')\n",
    "\n",
    "# splitting the data\n",
    "X = df[['age', 'sex', 'pclass', 'sibsp', 'parch', 'fare']]\n",
    "y = df['survived']\n",
    "\n",
    "# one hot encoding\n",
    "X = pd.get_dummies(X, columns=['sex'])\n",
    "\n",
    "# fill missing values\n",
    "X['age'] = X['age'].fillna(X['age'].mean())\n",
    "\n",
    "# split data\n",
    "X_train, X_test, y_train, y_test = train_test_split(X, y, test_size=0.2, random_state=0)"
   ]
  },
  {
   "cell_type": "code",
   "execution_count": 19,
   "metadata": {},
   "outputs": [
    {
     "name": "stdout",
     "output_type": "stream",
     "text": [
      "Best Params: \n",
      " {'n_neighbors': 5, 'weights': 'distance'}\n",
      "Best Score: \n",
      " 0.731773859942874\n"
     ]
    }
   ],
   "source": [
    "# define parameter grid\n",
    "# ------------------------------------------  # \n",
    "# define the parameter grid\n",
    "param_grid = {'n_neighbors': np.arange(1, 30, 2), 'weights': ['uniform', 'distance']}\n",
    "\n",
    "# define model\n",
    "model = KNeighborsClassifier()\n",
    "\n",
    "# create a GridSearchCV object with\n",
    "# the model, parameter grid, and scoring metric\n",
    "grid_search = GridSearchCV(model, param_grid, cv=5, scoring='accuracy')\n",
    "\n",
    "# fit the data to the grid search object\n",
    "grid_search.fit(X_train, y_train)\n",
    "\n",
    "# print the best params\n",
    "print(\"Best Params: \\n\", grid_search.best_params_)\n",
    "\n",
    "# print the best score\n",
    "print(\"Best Score: \\n\", grid_search.best_score_)"
   ]
  },
  {
   "cell_type": "markdown",
   "metadata": {},
   "source": [
    "## Decision Tree Classifier with GridSearchCV"
   ]
  },
  {
   "cell_type": "code",
   "execution_count": 20,
   "metadata": {},
   "outputs": [],
   "source": [
    "from sklearn.tree import DecisionTreeClassifier"
   ]
  },
  {
   "cell_type": "code",
   "execution_count": 21,
   "metadata": {},
   "outputs": [],
   "source": [
    "df = sns.load_dataset('titanic')\n",
    "\n",
    "# splitting the data\n",
    "X = df[['age', 'sex', 'pclass', 'sibsp', 'parch', 'fare']]\n",
    "y = df['survived']\n",
    "\n",
    "# one hot encoding\n",
    "X = pd.get_dummies(X, columns=['sex'])\n",
    "\n",
    "# fill missing values\n",
    "X['age'] = X['age'].fillna(X['age'].mean())\n",
    "\n",
    "# split data\n",
    "X_train, X_test, y_train, y_test = train_test_split(X, y, test_size=0.2, random_state=0)"
   ]
  },
  {
   "cell_type": "code",
   "execution_count": 22,
   "metadata": {},
   "outputs": [
    {
     "data": {
      "text/plain": [
       "{'ccp_alpha': 0.0,\n",
       " 'class_weight': None,\n",
       " 'criterion': 'gini',\n",
       " 'max_depth': None,\n",
       " 'max_features': None,\n",
       " 'max_leaf_nodes': None,\n",
       " 'min_impurity_decrease': 0.0,\n",
       " 'min_samples_leaf': 1,\n",
       " 'min_samples_split': 2,\n",
       " 'min_weight_fraction_leaf': 0.0,\n",
       " 'monotonic_cst': None,\n",
       " 'random_state': None,\n",
       " 'splitter': 'best'}"
      ]
     },
     "execution_count": 22,
     "metadata": {},
     "output_type": "execute_result"
    }
   ],
   "source": [
    "model = DecisionTreeClassifier()\n",
    "model.get_params()"
   ]
  },
  {
   "cell_type": "code",
   "execution_count": 23,
   "metadata": {},
   "outputs": [
    {
     "name": "stdout",
     "output_type": "stream",
     "text": [
      "Best Params: \n",
      " {'max_depth': 3, 'min_samples_split': 2}\n",
      "Best Score: \n",
      " 0.8103614695163991\n"
     ]
    }
   ],
   "source": [
    "# define parameter grid\n",
    "# ------------------------------------------  # \n",
    "# define the parameter grid\n",
    "param_grid = {'max_depth': np.arange(3,5,7,None), 'min_samples_split': [2, 3, 4]} \n",
    "\n",
    "# initialize the grid search object\n",
    "grid_search = GridSearchCV(model, param_grid, cv=5, scoring='accuracy')\n",
    "\n",
    "\n",
    "# fit the data to the grid search object\n",
    "grid_search.fit(X_train, y_train)\n",
    "\n",
    "# print the best params\n",
    "print(\"Best Params: \\n\", grid_search.best_params_)\n",
    "\n",
    "# print the best score\n",
    "print(\"Best Score: \\n\", grid_search.best_score_)"
   ]
  },
  {
   "cell_type": "markdown",
   "metadata": {},
   "source": [
    "## RandomForest Classifier with GridSearch CV"
   ]
  },
  {
   "cell_type": "code",
   "execution_count": 24,
   "metadata": {},
   "outputs": [],
   "source": [
    "from sklearn.ensemble import RandomForestClassifier"
   ]
  },
  {
   "cell_type": "code",
   "execution_count": null,
   "metadata": {},
   "outputs": [],
   "source": [
    "df = sns.load_dataset('titanic')\n",
    "\n",
    "# splitting the data\n",
    "X = df[['age', 'sex', 'pclass', 'sibsp', 'parch', 'fare']]\n",
    "y = df['survived']\n",
    "\n",
    "# one hot encoding\n",
    "X = pd.get_dummies(X, columns=['sex'])\n",
    "\n",
    "# fill missing values\n",
    "X['age'] = X['age'].fillna(X['age'].mean())\n",
    "\n",
    "# split data\n",
    "X_train, X_test, y_train, y_test = train_test_split(X, y, test_size=0.2, random_state=0)"
   ]
  },
  {
   "cell_type": "code",
   "execution_count": 25,
   "metadata": {},
   "outputs": [
    {
     "data": {
      "text/plain": [
       "{'bootstrap': True,\n",
       " 'ccp_alpha': 0.0,\n",
       " 'class_weight': None,\n",
       " 'criterion': 'gini',\n",
       " 'max_depth': None,\n",
       " 'max_features': 'sqrt',\n",
       " 'max_leaf_nodes': None,\n",
       " 'max_samples': None,\n",
       " 'min_impurity_decrease': 0.0,\n",
       " 'min_samples_leaf': 1,\n",
       " 'min_samples_split': 2,\n",
       " 'min_weight_fraction_leaf': 0.0,\n",
       " 'monotonic_cst': None,\n",
       " 'n_estimators': 100,\n",
       " 'n_jobs': None,\n",
       " 'oob_score': False,\n",
       " 'random_state': None,\n",
       " 'verbose': 0,\n",
       " 'warm_start': False}"
      ]
     },
     "execution_count": 25,
     "metadata": {},
     "output_type": "execute_result"
    }
   ],
   "source": [
    "model = RandomForestClassifier()\n",
    "model.get_params()"
   ]
  },
  {
   "cell_type": "code",
   "execution_count": 26,
   "metadata": {},
   "outputs": [
    {
     "name": "stdout",
     "output_type": "stream",
     "text": [
      "Best Params: \n",
      " {'max_depth': 7, 'max_features': 'log2', 'min_samples_split': 3, 'n_estimators': 50}\n",
      "Best Score: \n",
      " 0.8342361863488623\n"
     ]
    },
    {
     "name": "stderr",
     "output_type": "stream",
     "text": [
      "/home/idev/.local/lib/python3.10/site-packages/sklearn/model_selection/_validation.py:547: FitFailedWarning: \n",
      "180 fits failed out of a total of 540.\n",
      "The score on these train-test partitions for these parameters will be set to nan.\n",
      "If these failures are not expected, you can try to debug them by setting error_score='raise'.\n",
      "\n",
      "Below are more details about the failures:\n",
      "--------------------------------------------------------------------------------\n",
      "180 fits failed with the following error:\n",
      "Traceback (most recent call last):\n",
      "  File \"/home/idev/.local/lib/python3.10/site-packages/sklearn/model_selection/_validation.py\", line 895, in _fit_and_score\n",
      "    estimator.fit(X_train, y_train, **fit_params)\n",
      "  File \"/home/idev/.local/lib/python3.10/site-packages/sklearn/base.py\", line 1467, in wrapper\n",
      "    estimator._validate_params()\n",
      "  File \"/home/idev/.local/lib/python3.10/site-packages/sklearn/base.py\", line 666, in _validate_params\n",
      "    validate_parameter_constraints(\n",
      "  File \"/home/idev/.local/lib/python3.10/site-packages/sklearn/utils/_param_validation.py\", line 95, in validate_parameter_constraints\n",
      "    raise InvalidParameterError(\n",
      "sklearn.utils._param_validation.InvalidParameterError: The 'max_features' parameter of RandomForestClassifier must be an int in the range [1, inf), a float in the range (0.0, 1.0], a str among {'log2', 'sqrt'} or None. Got 'auto' instead.\n",
      "\n",
      "  warnings.warn(some_fits_failed_message, FitFailedWarning)\n",
      "/home/idev/.local/lib/python3.10/site-packages/sklearn/model_selection/_search.py:1051: UserWarning: One or more of the test scores are non-finite: [       nan        nan        nan        nan        nan        nan\n",
      "        nan        nan        nan 0.80620506 0.80616567 0.81041072\n",
      " 0.80616567 0.80759381 0.81039102 0.80898257 0.80619521 0.80619521\n",
      " 0.80196001 0.80758397 0.80760366 0.79634591 0.80618536 0.80758397\n",
      " 0.80476706 0.80758397 0.80339801        nan        nan        nan\n",
      "        nan        nan        nan        nan        nan        nan\n",
      " 0.81741357 0.82725303 0.82723333 0.82165862 0.82442628 0.82582488\n",
      " 0.82298828 0.82302768 0.82864178 0.82023047 0.82304738 0.82302768\n",
      " 0.81602482 0.82443613 0.82441643 0.82299813 0.82303753 0.82161923\n",
      "        nan        nan        nan        nan        nan        nan\n",
      "        nan        nan        nan 0.80895302 0.82299813 0.82442628\n",
      " 0.82023047 0.82300798 0.82441643 0.82162908 0.82299813 0.82579533\n",
      " 0.81318822 0.82861223 0.82441643 0.82021078 0.83423619 0.81601497\n",
      " 0.81879248 0.82441643 0.82722348        nan        nan        nan\n",
      "        nan        nan        nan        nan        nan        nan\n",
      " 0.79771496 0.79352901 0.79633606 0.7907121  0.80755442 0.81036147\n",
      " 0.80616567 0.80754457 0.80475721 0.79352901 0.79072195 0.79631636\n",
      " 0.80471782 0.79771496 0.79913326 0.80899242 0.80897272 0.80757412]\n",
      "  warnings.warn(\n"
     ]
    }
   ],
   "source": [
    "# define parameter grid\n",
    "# ------------------------------------------  # \n",
    "# define the parameter grid\n",
    "param_grid = {'n_estimators': [10, 50, 100], \n",
    "              'max_depth': [3, 5, 7, None], \n",
    "              'min_samples_split': [2, 3, 4],\n",
    "              'max_features': ['auto', 'sqrt', 'log2']} \n",
    "\n",
    "# initialize the grid search object\n",
    "grid_search = GridSearchCV(model, param_grid, cv=5, scoring='accuracy')\n",
    "\n",
    "\n",
    "# fit the data to the grid search object\n",
    "grid_search.fit(X_train, y_train)\n",
    "\n",
    "# print the best params\n",
    "print(\"Best Params: \\n\", grid_search.best_params_)\n",
    "\n",
    "# print the best score\n",
    "print(\"Best Score: \\n\", grid_search.best_score_)"
   ]
  },
  {
   "cell_type": "code",
   "execution_count": null,
   "metadata": {},
   "outputs": [],
   "source": []
  },
  {
   "cell_type": "code",
   "execution_count": null,
   "metadata": {},
   "outputs": [],
   "source": []
  },
  {
   "cell_type": "code",
   "execution_count": null,
   "metadata": {},
   "outputs": [],
   "source": []
  },
  {
   "cell_type": "code",
   "execution_count": null,
   "metadata": {},
   "outputs": [],
   "source": []
  }
 ],
 "metadata": {
  "kernelspec": {
   "display_name": "Python 3",
   "language": "python",
   "name": "python3"
  },
  "language_info": {
   "codemirror_mode": {
    "name": "ipython",
    "version": 3
   },
   "file_extension": ".py",
   "mimetype": "text/x-python",
   "name": "python",
   "nbconvert_exporter": "python",
   "pygments_lexer": "ipython3",
   "version": "3.10.12"
  }
 },
 "nbformat": 4,
 "nbformat_minor": 2
}
