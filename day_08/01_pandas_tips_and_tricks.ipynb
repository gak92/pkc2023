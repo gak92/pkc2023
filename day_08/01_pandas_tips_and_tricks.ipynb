{
 "cells": [
  {
   "cell_type": "markdown",
   "metadata": {},
   "source": [
    "## 01- How to find version of pandas "
   ]
  },
  {
   "cell_type": "code",
   "execution_count": 1,
   "metadata": {},
   "outputs": [
    {
     "data": {
      "text/plain": [
       "'2.1.1'"
      ]
     },
     "execution_count": 1,
     "metadata": {},
     "output_type": "execute_result"
    }
   ],
   "source": [
    "import pandas as pd\n",
    "pd.__version__"
   ]
  },
  {
   "cell_type": "code",
   "execution_count": 2,
   "metadata": {},
   "outputs": [
    {
     "name": "stdout",
     "output_type": "stream",
     "text": [
      "\n",
      "INSTALLED VERSIONS\n",
      "------------------\n",
      "commit              : e86ed377639948c64c429059127bcf5b359ab6be\n",
      "python              : 3.10.12.final.0\n",
      "python-bits         : 64\n",
      "OS                  : Linux\n",
      "OS-release          : 6.2.0-34-generic\n",
      "Version             : #34~22.04.1-Ubuntu SMP PREEMPT_DYNAMIC Thu Sep  7 13:12:03 UTC 2\n",
      "machine             : x86_64\n",
      "processor           : x86_64\n",
      "byteorder           : little\n",
      "LC_ALL              : None\n",
      "LANG                : en_US.UTF-8\n",
      "LOCALE              : en_US.UTF-8\n",
      "\n",
      "pandas              : 2.1.1\n",
      "numpy               : 1.26.1\n",
      "pytz                : 2022.1\n",
      "dateutil            : 2.8.2\n",
      "setuptools          : 59.6.0\n",
      "pip                 : 22.0.2\n",
      "Cython              : None\n",
      "pytest              : None\n",
      "hypothesis          : None\n",
      "sphinx              : None\n",
      "blosc               : None\n",
      "feather             : None\n",
      "xlsxwriter          : None\n",
      "lxml.etree          : None\n",
      "html5lib            : None\n",
      "pymysql             : None\n",
      "psycopg2            : None\n",
      "jinja2              : None\n",
      "IPython             : 8.16.1\n",
      "pandas_datareader   : None\n",
      "bs4                 : None\n",
      "bottleneck          : None\n",
      "dataframe-api-compat: None\n",
      "fastparquet         : None\n",
      "fsspec              : None\n",
      "gcsfs               : None\n",
      "matplotlib          : 3.8.0\n",
      "numba               : None\n",
      "numexpr             : None\n",
      "odfpy               : None\n",
      "openpyxl            : 3.1.2\n",
      "pandas_gbq          : None\n",
      "pyarrow             : None\n",
      "pyreadstat          : None\n",
      "pyxlsb              : None\n",
      "s3fs                : None\n",
      "scipy               : None\n",
      "sqlalchemy          : None\n",
      "tables              : None\n",
      "tabulate            : None\n",
      "xarray              : None\n",
      "xlrd                : None\n",
      "zstandard           : None\n",
      "tzdata              : 2023.3\n",
      "qtpy                : None\n",
      "pyqt5               : None\n"
     ]
    }
   ],
   "source": [
    "pd.show_versions()"
   ]
  },
  {
   "cell_type": "markdown",
   "metadata": {},
   "source": [
    "## 02 - Making DataFrame"
   ]
  },
  {
   "cell_type": "code",
   "execution_count": 5,
   "metadata": {},
   "outputs": [
    {
     "data": {
      "text/html": [
       "<div>\n",
       "<style scoped>\n",
       "    .dataframe tbody tr th:only-of-type {\n",
       "        vertical-align: middle;\n",
       "    }\n",
       "\n",
       "    .dataframe tbody tr th {\n",
       "        vertical-align: top;\n",
       "    }\n",
       "\n",
       "    .dataframe thead th {\n",
       "        text-align: right;\n",
       "    }\n",
       "</style>\n",
       "<table border=\"1\" class=\"dataframe\">\n",
       "  <thead>\n",
       "    <tr style=\"text-align: right;\">\n",
       "      <th></th>\n",
       "      <th>A Col</th>\n",
       "      <th>B Col</th>\n",
       "    </tr>\n",
       "  </thead>\n",
       "  <tbody>\n",
       "    <tr>\n",
       "      <th>0</th>\n",
       "      <td>1</td>\n",
       "      <td>4</td>\n",
       "    </tr>\n",
       "    <tr>\n",
       "      <th>1</th>\n",
       "      <td>2</td>\n",
       "      <td>5</td>\n",
       "    </tr>\n",
       "    <tr>\n",
       "      <th>2</th>\n",
       "      <td>3</td>\n",
       "      <td>6</td>\n",
       "    </tr>\n",
       "    <tr>\n",
       "      <th>3</th>\n",
       "      <td>11</td>\n",
       "      <td>27</td>\n",
       "    </tr>\n",
       "    <tr>\n",
       "      <th>4</th>\n",
       "      <td>19</td>\n",
       "      <td>40</td>\n",
       "    </tr>\n",
       "    <tr>\n",
       "      <th>5</th>\n",
       "      <td>21</td>\n",
       "      <td>41</td>\n",
       "    </tr>\n",
       "  </tbody>\n",
       "</table>\n",
       "</div>"
      ],
      "text/plain": [
       "   A Col  B Col\n",
       "0      1      4\n",
       "1      2      5\n",
       "2      3      6\n",
       "3     11     27\n",
       "4     19     40\n",
       "5     21     41"
      ]
     },
     "execution_count": 5,
     "metadata": {},
     "output_type": "execute_result"
    }
   ],
   "source": [
    "df = pd.DataFrame({'A Col': [1, 2, 3, 11, 19, 21],\n",
    "                   'B Col': [4, 5, 6, 27, 40, 41]})\n",
    "df"
   ]
  },
  {
   "cell_type": "code",
   "execution_count": 7,
   "metadata": {},
   "outputs": [],
   "source": [
    "# using numpy\n",
    "import numpy as np"
   ]
  },
  {
   "cell_type": "code",
   "execution_count": 8,
   "metadata": {},
   "outputs": [
    {
     "data": {
      "text/plain": [
       "array([[ 1,  2, 11],\n",
       "       [ 3,  4, 21],\n",
       "       [ 7,  8, 19]])"
      ]
     },
     "execution_count": 8,
     "metadata": {},
     "output_type": "execute_result"
    }
   ],
   "source": [
    "arr =np.array([\n",
    "  [1, 2, 11],\n",
    "  [3,4, 21],\n",
    "  [7,8, 19]\n",
    "])\n",
    "arr"
   ]
  },
  {
   "cell_type": "code",
   "execution_count": 9,
   "metadata": {},
   "outputs": [
    {
     "data": {
      "text/html": [
       "<div>\n",
       "<style scoped>\n",
       "    .dataframe tbody tr th:only-of-type {\n",
       "        vertical-align: middle;\n",
       "    }\n",
       "\n",
       "    .dataframe tbody tr th {\n",
       "        vertical-align: top;\n",
       "    }\n",
       "\n",
       "    .dataframe thead th {\n",
       "        text-align: right;\n",
       "    }\n",
       "</style>\n",
       "<table border=\"1\" class=\"dataframe\">\n",
       "  <thead>\n",
       "    <tr style=\"text-align: right;\">\n",
       "      <th></th>\n",
       "      <th>0</th>\n",
       "      <th>1</th>\n",
       "      <th>2</th>\n",
       "    </tr>\n",
       "  </thead>\n",
       "  <tbody>\n",
       "    <tr>\n",
       "      <th>0</th>\n",
       "      <td>1</td>\n",
       "      <td>2</td>\n",
       "      <td>11</td>\n",
       "    </tr>\n",
       "    <tr>\n",
       "      <th>1</th>\n",
       "      <td>3</td>\n",
       "      <td>4</td>\n",
       "      <td>21</td>\n",
       "    </tr>\n",
       "    <tr>\n",
       "      <th>2</th>\n",
       "      <td>7</td>\n",
       "      <td>8</td>\n",
       "      <td>19</td>\n",
       "    </tr>\n",
       "  </tbody>\n",
       "</table>\n",
       "</div>"
      ],
      "text/plain": [
       "   0  1   2\n",
       "0  1  2  11\n",
       "1  3  4  21\n",
       "2  7  8  19"
      ]
     },
     "execution_count": 9,
     "metadata": {},
     "output_type": "execute_result"
    }
   ],
   "source": [
    "pd.DataFrame(arr)"
   ]
  },
  {
   "cell_type": "code",
   "execution_count": 10,
   "metadata": {},
   "outputs": [
    {
     "data": {
      "text/html": [
       "<div>\n",
       "<style scoped>\n",
       "    .dataframe tbody tr th:only-of-type {\n",
       "        vertical-align: middle;\n",
       "    }\n",
       "\n",
       "    .dataframe tbody tr th {\n",
       "        vertical-align: top;\n",
       "    }\n",
       "\n",
       "    .dataframe thead th {\n",
       "        text-align: right;\n",
       "    }\n",
       "</style>\n",
       "<table border=\"1\" class=\"dataframe\">\n",
       "  <thead>\n",
       "    <tr style=\"text-align: right;\">\n",
       "      <th></th>\n",
       "      <th>0</th>\n",
       "      <th>1</th>\n",
       "      <th>2</th>\n",
       "      <th>3</th>\n",
       "      <th>4</th>\n",
       "      <th>5</th>\n",
       "      <th>6</th>\n",
       "      <th>7</th>\n",
       "    </tr>\n",
       "  </thead>\n",
       "  <tbody>\n",
       "    <tr>\n",
       "      <th>0</th>\n",
       "      <td>-0.186300</td>\n",
       "      <td>0.196537</td>\n",
       "      <td>-0.663349</td>\n",
       "      <td>-0.873034</td>\n",
       "      <td>-0.539131</td>\n",
       "      <td>1.281896</td>\n",
       "      <td>0.260690</td>\n",
       "      <td>-0.737692</td>\n",
       "    </tr>\n",
       "    <tr>\n",
       "      <th>1</th>\n",
       "      <td>-1.123768</td>\n",
       "      <td>-0.760898</td>\n",
       "      <td>0.823901</td>\n",
       "      <td>1.498975</td>\n",
       "      <td>-0.579543</td>\n",
       "      <td>-0.574665</td>\n",
       "      <td>2.131679</td>\n",
       "      <td>1.233369</td>\n",
       "    </tr>\n",
       "    <tr>\n",
       "      <th>2</th>\n",
       "      <td>-0.176451</td>\n",
       "      <td>-0.693012</td>\n",
       "      <td>-1.203065</td>\n",
       "      <td>-1.795257</td>\n",
       "      <td>-0.047744</td>\n",
       "      <td>1.393362</td>\n",
       "      <td>-0.481268</td>\n",
       "      <td>0.073391</td>\n",
       "    </tr>\n",
       "    <tr>\n",
       "      <th>3</th>\n",
       "      <td>0.131528</td>\n",
       "      <td>0.926762</td>\n",
       "      <td>0.762133</td>\n",
       "      <td>0.450318</td>\n",
       "      <td>-0.326846</td>\n",
       "      <td>0.791960</td>\n",
       "      <td>-1.423446</td>\n",
       "      <td>0.819399</td>\n",
       "    </tr>\n",
       "  </tbody>\n",
       "</table>\n",
       "</div>"
      ],
      "text/plain": [
       "          0         1         2         3         4         5         6  \\\n",
       "0 -0.186300  0.196537 -0.663349 -0.873034 -0.539131  1.281896  0.260690   \n",
       "1 -1.123768 -0.760898  0.823901  1.498975 -0.579543 -0.574665  2.131679   \n",
       "2 -0.176451 -0.693012 -1.203065 -1.795257 -0.047744  1.393362 -0.481268   \n",
       "3  0.131528  0.926762  0.762133  0.450318 -0.326846  0.791960 -1.423446   \n",
       "\n",
       "          7  \n",
       "0 -0.737692  \n",
       "1  1.233369  \n",
       "2  0.073391  \n",
       "3  0.819399  "
      ]
     },
     "execution_count": 10,
     "metadata": {},
     "output_type": "execute_result"
    }
   ],
   "source": [
    "pd.DataFrame(np.random.randn(4,8))"
   ]
  },
  {
   "cell_type": "code",
   "execution_count": 13,
   "metadata": {},
   "outputs": [
    {
     "data": {
      "text/html": [
       "<div>\n",
       "<style scoped>\n",
       "    .dataframe tbody tr th:only-of-type {\n",
       "        vertical-align: middle;\n",
       "    }\n",
       "\n",
       "    .dataframe tbody tr th {\n",
       "        vertical-align: top;\n",
       "    }\n",
       "\n",
       "    .dataframe thead th {\n",
       "        text-align: right;\n",
       "    }\n",
       "</style>\n",
       "<table border=\"1\" class=\"dataframe\">\n",
       "  <thead>\n",
       "    <tr style=\"text-align: right;\">\n",
       "      <th></th>\n",
       "      <th>A</th>\n",
       "      <th>B</th>\n",
       "      <th>C</th>\n",
       "      <th>D</th>\n",
       "      <th>E</th>\n",
       "      <th>F</th>\n",
       "      <th>G</th>\n",
       "      <th>H</th>\n",
       "    </tr>\n",
       "  </thead>\n",
       "  <tbody>\n",
       "    <tr>\n",
       "      <th>0</th>\n",
       "      <td>-0.112137</td>\n",
       "      <td>-0.137659</td>\n",
       "      <td>2.083914</td>\n",
       "      <td>-0.310582</td>\n",
       "      <td>-1.063526</td>\n",
       "      <td>-0.465197</td>\n",
       "      <td>-1.500372</td>\n",
       "      <td>0.848875</td>\n",
       "    </tr>\n",
       "    <tr>\n",
       "      <th>1</th>\n",
       "      <td>0.008601</td>\n",
       "      <td>-1.174736</td>\n",
       "      <td>0.861041</td>\n",
       "      <td>1.010083</td>\n",
       "      <td>1.473139</td>\n",
       "      <td>-0.035397</td>\n",
       "      <td>-0.376038</td>\n",
       "      <td>0.255609</td>\n",
       "    </tr>\n",
       "    <tr>\n",
       "      <th>2</th>\n",
       "      <td>-0.302487</td>\n",
       "      <td>-0.639733</td>\n",
       "      <td>0.250393</td>\n",
       "      <td>0.308574</td>\n",
       "      <td>1.307307</td>\n",
       "      <td>0.413353</td>\n",
       "      <td>1.672655</td>\n",
       "      <td>-0.558773</td>\n",
       "    </tr>\n",
       "    <tr>\n",
       "      <th>3</th>\n",
       "      <td>1.384579</td>\n",
       "      <td>-0.575956</td>\n",
       "      <td>-0.927811</td>\n",
       "      <td>2.112993</td>\n",
       "      <td>-0.970295</td>\n",
       "      <td>-1.300877</td>\n",
       "      <td>-1.274323</td>\n",
       "      <td>-0.157771</td>\n",
       "    </tr>\n",
       "  </tbody>\n",
       "</table>\n",
       "</div>"
      ],
      "text/plain": [
       "          A         B         C         D         E         F         G  \\\n",
       "0 -0.112137 -0.137659  2.083914 -0.310582 -1.063526 -0.465197 -1.500372   \n",
       "1  0.008601 -1.174736  0.861041  1.010083  1.473139 -0.035397 -0.376038   \n",
       "2 -0.302487 -0.639733  0.250393  0.308574  1.307307  0.413353  1.672655   \n",
       "3  1.384579 -0.575956 -0.927811  2.112993 -0.970295 -1.300877 -1.274323   \n",
       "\n",
       "          H  \n",
       "0  0.848875  \n",
       "1  0.255609  \n",
       "2 -0.558773  \n",
       "3 -0.157771  "
      ]
     },
     "execution_count": 13,
     "metadata": {},
     "output_type": "execute_result"
    }
   ],
   "source": [
    "pd.DataFrame(np.random.randn(4,8), columns=list('ABCDEFGH'))"
   ]
  },
  {
   "cell_type": "code",
   "execution_count": null,
   "metadata": {},
   "outputs": [],
   "source": []
  },
  {
   "cell_type": "code",
   "execution_count": null,
   "metadata": {},
   "outputs": [],
   "source": []
  },
  {
   "cell_type": "code",
   "execution_count": null,
   "metadata": {},
   "outputs": [],
   "source": []
  },
  {
   "cell_type": "code",
   "execution_count": null,
   "metadata": {},
   "outputs": [],
   "source": []
  },
  {
   "cell_type": "code",
   "execution_count": null,
   "metadata": {},
   "outputs": [],
   "source": []
  },
  {
   "cell_type": "code",
   "execution_count": null,
   "metadata": {},
   "outputs": [],
   "source": []
  },
  {
   "cell_type": "code",
   "execution_count": null,
   "metadata": {},
   "outputs": [],
   "source": []
  },
  {
   "cell_type": "code",
   "execution_count": null,
   "metadata": {},
   "outputs": [],
   "source": []
  },
  {
   "cell_type": "code",
   "execution_count": null,
   "metadata": {},
   "outputs": [],
   "source": []
  },
  {
   "cell_type": "code",
   "execution_count": null,
   "metadata": {},
   "outputs": [],
   "source": []
  },
  {
   "cell_type": "code",
   "execution_count": null,
   "metadata": {},
   "outputs": [],
   "source": []
  },
  {
   "cell_type": "code",
   "execution_count": null,
   "metadata": {},
   "outputs": [],
   "source": []
  },
  {
   "cell_type": "code",
   "execution_count": null,
   "metadata": {},
   "outputs": [],
   "source": []
  },
  {
   "cell_type": "code",
   "execution_count": null,
   "metadata": {},
   "outputs": [],
   "source": []
  },
  {
   "cell_type": "code",
   "execution_count": null,
   "metadata": {},
   "outputs": [],
   "source": []
  },
  {
   "cell_type": "code",
   "execution_count": null,
   "metadata": {},
   "outputs": [],
   "source": []
  }
 ],
 "metadata": {
  "kernelspec": {
   "display_name": "Python 3",
   "language": "python",
   "name": "python3"
  },
  "language_info": {
   "codemirror_mode": {
    "name": "ipython",
    "version": 3
   },
   "file_extension": ".py",
   "mimetype": "text/x-python",
   "name": "python",
   "nbconvert_exporter": "python",
   "pygments_lexer": "ipython3",
   "version": "3.10.12"
  }
 },
 "nbformat": 4,
 "nbformat_minor": 2
}
